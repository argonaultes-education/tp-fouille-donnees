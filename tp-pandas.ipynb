{
 "cells": [
  {
   "cell_type": "markdown",
   "id": "9106bbe9",
   "metadata": {},
   "source": [
    "# Exercice 1 - Mariages à Poitiers\n",
    "\n",
    "Afficher dans un graphique uniquement le nombre de mariages par mois et regrouper par année, pour vérifier que chaque année, nous retrouvons les mêmes ordres de grandeur."
   ]
  },
  {
   "cell_type": "code",
   "execution_count": 9,
   "id": "49993a33",
   "metadata": {},
   "outputs": [],
   "source": [
    "import pandas as pd"
   ]
  },
  {
   "cell_type": "markdown",
   "id": "ba15ab1c",
   "metadata": {},
   "source": [
    "Lire un fichier au format CSV avec pandas ou au format JSON. Il est possible de passer en argument une URL ou un chemin local au script."
   ]
  },
  {
   "cell_type": "code",
   "execution_count": 10,
   "id": "34d1fc52",
   "metadata": {},
   "outputs": [],
   "source": [
    "statsPoitiersCSV = pd.read_csv('/tmp/citoyennete-mariages-a-poitiers.csv', sep=';')"
   ]
  },
  {
   "cell_type": "code",
   "execution_count": 11,
   "id": "e182cb2e",
   "metadata": {},
   "outputs": [],
   "source": [
    "try:\n",
    "    statsPoitiersJSON = pd.read_json('https://www.data.gouv.fr/fr/datasets/r/7d9a5c8d-dea7-4d7c-9c92-2c45068eae95')\n",
    "except:\n",
    "    pass"
   ]
  },
  {
   "cell_type": "markdown",
   "id": "975a7a68",
   "metadata": {},
   "source": [
    "Visualiser la liste des colonnes et vérifier les valeurs présentes dans celle indiquant le type de contrat"
   ]
  },
  {
   "cell_type": "code",
   "execution_count": 12,
   "id": "cfb277e5",
   "metadata": {},
   "outputs": [
    {
     "name": "stdout",
     "output_type": "stream",
     "text": [
      "<class 'pandas.core.frame.DataFrame'>\n",
      "RangeIndex: 432 entries, 0 to 431\n",
      "Data columns (total 4 columns):\n",
      " #   Column        Non-Null Count  Dtype \n",
      "---  ------        --------------  ----- \n",
      " 0   annee         432 non-null    int64 \n",
      " 1   mois          432 non-null    int64 \n",
      " 2   type_contrat  432 non-null    object\n",
      " 3   value         432 non-null    int64 \n",
      "dtypes: int64(3), object(1)\n",
      "memory usage: 13.6+ KB\n"
     ]
    }
   ],
   "source": [
    "statsPoitiersCSV.info()"
   ]
  },
  {
   "cell_type": "code",
   "execution_count": 13,
   "id": "5ee9ec7e",
   "metadata": {},
   "outputs": [],
   "source": [
    "#statsPoitiersJSON.info()"
   ]
  },
  {
   "cell_type": "markdown",
   "id": "2d954047",
   "metadata": {},
   "source": [
    "Filtrer la colonne type_contrat sur la valeur `'CONTRAT DE MARIAGE'` et stocker le résultat dans un nouveau dataframe"
   ]
  },
  {
   "cell_type": "code",
   "execution_count": 14,
   "id": "26e6403d",
   "metadata": {},
   "outputs": [],
   "source": [
    "contratsDeMariage = statsPoitiersCSV[statsPoitiersCSV['type_contrat'].isin(['CONTRAT DE MARIAGE', 'NOMBRE DE MARIAGES'])]"
   ]
  },
  {
   "cell_type": "code",
   "execution_count": 15,
   "id": "f9914ddd",
   "metadata": {},
   "outputs": [
    {
     "data": {
      "text/plain": [
       "pandas.core.frame.DataFrame"
      ]
     },
     "execution_count": 15,
     "metadata": {},
     "output_type": "execute_result"
    }
   ],
   "source": [
    "type(contratsDeMariage)"
   ]
  },
  {
   "cell_type": "code",
   "execution_count": 16,
   "id": "a7c34435",
   "metadata": {},
   "outputs": [
    {
     "data": {
      "text/html": [
       "<div>\n",
       "<style scoped>\n",
       "    .dataframe tbody tr th:only-of-type {\n",
       "        vertical-align: middle;\n",
       "    }\n",
       "\n",
       "    .dataframe tbody tr th {\n",
       "        vertical-align: top;\n",
       "    }\n",
       "\n",
       "    .dataframe thead th {\n",
       "        text-align: right;\n",
       "    }\n",
       "</style>\n",
       "<table border=\"1\" class=\"dataframe\">\n",
       "  <thead>\n",
       "    <tr style=\"text-align: right;\">\n",
       "      <th></th>\n",
       "      <th>annee</th>\n",
       "      <th>mois</th>\n",
       "      <th>type_contrat</th>\n",
       "      <th>value</th>\n",
       "    </tr>\n",
       "  </thead>\n",
       "  <tbody>\n",
       "    <tr>\n",
       "      <th>1</th>\n",
       "      <td>2014</td>\n",
       "      <td>2</td>\n",
       "      <td>NOMBRE DE MARIAGES</td>\n",
       "      <td>1</td>\n",
       "    </tr>\n",
       "    <tr>\n",
       "      <th>9</th>\n",
       "      <td>2014</td>\n",
       "      <td>10</td>\n",
       "      <td>NOMBRE DE MARIAGES</td>\n",
       "      <td>22</td>\n",
       "    </tr>\n",
       "    <tr>\n",
       "      <th>15</th>\n",
       "      <td>2015</td>\n",
       "      <td>3</td>\n",
       "      <td>CONTRAT DE MARIAGE</td>\n",
       "      <td>1</td>\n",
       "    </tr>\n",
       "    <tr>\n",
       "      <th>16</th>\n",
       "      <td>2015</td>\n",
       "      <td>4</td>\n",
       "      <td>NOMBRE DE MARIAGES</td>\n",
       "      <td>19</td>\n",
       "    </tr>\n",
       "    <tr>\n",
       "      <th>18</th>\n",
       "      <td>2015</td>\n",
       "      <td>5</td>\n",
       "      <td>CONTRAT DE MARIAGE</td>\n",
       "      <td>2</td>\n",
       "    </tr>\n",
       "  </tbody>\n",
       "</table>\n",
       "</div>"
      ],
      "text/plain": [
       "    annee  mois        type_contrat  value\n",
       "1    2014     2  NOMBRE DE MARIAGES      1\n",
       "9    2014    10  NOMBRE DE MARIAGES     22\n",
       "15   2015     3  CONTRAT DE MARIAGE      1\n",
       "16   2015     4  NOMBRE DE MARIAGES     19\n",
       "18   2015     5  CONTRAT DE MARIAGE      2"
      ]
     },
     "execution_count": 16,
     "metadata": {},
     "output_type": "execute_result"
    }
   ],
   "source": [
    "contratsDeMariage.head()"
   ]
  },
  {
   "cell_type": "code",
   "execution_count": 17,
   "id": "1a2d7a65",
   "metadata": {},
   "outputs": [
    {
     "data": {
      "text/html": [
       "<div>\n",
       "<style scoped>\n",
       "    .dataframe tbody tr th:only-of-type {\n",
       "        vertical-align: middle;\n",
       "    }\n",
       "\n",
       "    .dataframe tbody tr th {\n",
       "        vertical-align: top;\n",
       "    }\n",
       "\n",
       "    .dataframe thead th {\n",
       "        text-align: right;\n",
       "    }\n",
       "</style>\n",
       "<table border=\"1\" class=\"dataframe\">\n",
       "  <thead>\n",
       "    <tr style=\"text-align: right;\">\n",
       "      <th></th>\n",
       "      <th>annee</th>\n",
       "      <th>mois</th>\n",
       "      <th>value</th>\n",
       "    </tr>\n",
       "  </thead>\n",
       "  <tbody>\n",
       "    <tr>\n",
       "      <th>1</th>\n",
       "      <td>2014</td>\n",
       "      <td>2</td>\n",
       "      <td>1</td>\n",
       "    </tr>\n",
       "    <tr>\n",
       "      <th>9</th>\n",
       "      <td>2014</td>\n",
       "      <td>10</td>\n",
       "      <td>22</td>\n",
       "    </tr>\n",
       "    <tr>\n",
       "      <th>15</th>\n",
       "      <td>2015</td>\n",
       "      <td>3</td>\n",
       "      <td>1</td>\n",
       "    </tr>\n",
       "    <tr>\n",
       "      <th>16</th>\n",
       "      <td>2015</td>\n",
       "      <td>4</td>\n",
       "      <td>19</td>\n",
       "    </tr>\n",
       "    <tr>\n",
       "      <th>18</th>\n",
       "      <td>2015</td>\n",
       "      <td>5</td>\n",
       "      <td>2</td>\n",
       "    </tr>\n",
       "    <tr>\n",
       "      <th>...</th>\n",
       "      <td>...</td>\n",
       "      <td>...</td>\n",
       "      <td>...</td>\n",
       "    </tr>\n",
       "    <tr>\n",
       "      <th>417</th>\n",
       "      <td>2018</td>\n",
       "      <td>8</td>\n",
       "      <td>28</td>\n",
       "    </tr>\n",
       "    <tr>\n",
       "      <th>420</th>\n",
       "      <td>2018</td>\n",
       "      <td>9</td>\n",
       "      <td>6</td>\n",
       "    </tr>\n",
       "    <tr>\n",
       "      <th>421</th>\n",
       "      <td>2018</td>\n",
       "      <td>10</td>\n",
       "      <td>16</td>\n",
       "    </tr>\n",
       "    <tr>\n",
       "      <th>423</th>\n",
       "      <td>2019</td>\n",
       "      <td>1</td>\n",
       "      <td>3</td>\n",
       "    </tr>\n",
       "    <tr>\n",
       "      <th>426</th>\n",
       "      <td>2019</td>\n",
       "      <td>7</td>\n",
       "      <td>28</td>\n",
       "    </tr>\n",
       "  </tbody>\n",
       "</table>\n",
       "<p>144 rows × 3 columns</p>\n",
       "</div>"
      ],
      "text/plain": [
       "     annee  mois  value\n",
       "1     2014     2      1\n",
       "9     2014    10     22\n",
       "15    2015     3      1\n",
       "16    2015     4     19\n",
       "18    2015     5      2\n",
       "..     ...   ...    ...\n",
       "417   2018     8     28\n",
       "420   2018     9      6\n",
       "421   2018    10     16\n",
       "423   2019     1      3\n",
       "426   2019     7     28\n",
       "\n",
       "[144 rows x 3 columns]"
      ]
     },
     "execution_count": 17,
     "metadata": {},
     "output_type": "execute_result"
    }
   ],
   "source": [
    "# supprimer la colonne type_contrat\n",
    "try:\n",
    "    contratsDeMariage.pop('type_contrat') #altération du dataframe source\n",
    "except:\n",
    "    pass\n",
    "contratsDeMariage"
   ]
  },
  {
   "cell_type": "code",
   "execution_count": 18,
   "id": "dfad6b5d",
   "metadata": {},
   "outputs": [
    {
     "data": {
      "text/html": [
       "<div>\n",
       "<style scoped>\n",
       "    .dataframe tbody tr th:only-of-type {\n",
       "        vertical-align: middle;\n",
       "    }\n",
       "\n",
       "    .dataframe tbody tr th {\n",
       "        vertical-align: top;\n",
       "    }\n",
       "\n",
       "    .dataframe thead th {\n",
       "        text-align: right;\n",
       "    }\n",
       "</style>\n",
       "<table border=\"1\" class=\"dataframe\">\n",
       "  <thead>\n",
       "    <tr style=\"text-align: right;\">\n",
       "      <th></th>\n",
       "      <th>annee</th>\n",
       "      <th>mois</th>\n",
       "      <th>value</th>\n",
       "    </tr>\n",
       "  </thead>\n",
       "  <tbody>\n",
       "    <tr>\n",
       "      <th>1</th>\n",
       "      <td>2014</td>\n",
       "      <td>2</td>\n",
       "      <td>1</td>\n",
       "    </tr>\n",
       "    <tr>\n",
       "      <th>9</th>\n",
       "      <td>2014</td>\n",
       "      <td>10</td>\n",
       "      <td>22</td>\n",
       "    </tr>\n",
       "    <tr>\n",
       "      <th>15</th>\n",
       "      <td>2015</td>\n",
       "      <td>3</td>\n",
       "      <td>1</td>\n",
       "    </tr>\n",
       "    <tr>\n",
       "      <th>16</th>\n",
       "      <td>2015</td>\n",
       "      <td>4</td>\n",
       "      <td>19</td>\n",
       "    </tr>\n",
       "    <tr>\n",
       "      <th>18</th>\n",
       "      <td>2015</td>\n",
       "      <td>5</td>\n",
       "      <td>2</td>\n",
       "    </tr>\n",
       "    <tr>\n",
       "      <th>...</th>\n",
       "      <td>...</td>\n",
       "      <td>...</td>\n",
       "      <td>...</td>\n",
       "    </tr>\n",
       "    <tr>\n",
       "      <th>417</th>\n",
       "      <td>2018</td>\n",
       "      <td>8</td>\n",
       "      <td>28</td>\n",
       "    </tr>\n",
       "    <tr>\n",
       "      <th>420</th>\n",
       "      <td>2018</td>\n",
       "      <td>9</td>\n",
       "      <td>6</td>\n",
       "    </tr>\n",
       "    <tr>\n",
       "      <th>421</th>\n",
       "      <td>2018</td>\n",
       "      <td>10</td>\n",
       "      <td>16</td>\n",
       "    </tr>\n",
       "    <tr>\n",
       "      <th>423</th>\n",
       "      <td>2019</td>\n",
       "      <td>1</td>\n",
       "      <td>3</td>\n",
       "    </tr>\n",
       "    <tr>\n",
       "      <th>426</th>\n",
       "      <td>2019</td>\n",
       "      <td>7</td>\n",
       "      <td>28</td>\n",
       "    </tr>\n",
       "  </tbody>\n",
       "</table>\n",
       "<p>144 rows × 3 columns</p>\n",
       "</div>"
      ],
      "text/plain": [
       "     annee  mois  value\n",
       "1     2014     2      1\n",
       "9     2014    10     22\n",
       "15    2015     3      1\n",
       "16    2015     4     19\n",
       "18    2015     5      2\n",
       "..     ...   ...    ...\n",
       "417   2018     8     28\n",
       "420   2018     9      6\n",
       "421   2018    10     16\n",
       "423   2019     1      3\n",
       "426   2019     7     28\n",
       "\n",
       "[144 rows x 3 columns]"
      ]
     },
     "execution_count": 18,
     "metadata": {},
     "output_type": "execute_result"
    }
   ],
   "source": [
    "contratsDeMariage[['annee', 'mois', 'value']] #création d'un nouveau dataframe"
   ]
  },
  {
   "cell_type": "code",
   "execution_count": 20,
   "id": "a8ad46d8",
   "metadata": {},
   "outputs": [],
   "source": [
    "# grouper selon les années et les mois et appliquer la fonction sum à chaque groupe d'agrégation\n",
    "result = contratsDeMariage.groupby(['annee', 'mois']).sum()"
   ]
  },
  {
   "cell_type": "code",
   "execution_count": 23,
   "id": "7c255907",
   "metadata": {},
   "outputs": [
    {
     "name": "stdout",
     "output_type": "stream",
     "text": [
      "<class 'pandas.core.frame.DataFrame'>\n",
      "RangeIndex: 72 entries, 0 to 71\n",
      "Data columns (total 3 columns):\n",
      " #   Column  Non-Null Count  Dtype\n",
      "---  ------  --------------  -----\n",
      " 0   annee   72 non-null     int64\n",
      " 1   mois    72 non-null     int64\n",
      " 2   value   72 non-null     int64\n",
      "dtypes: int64(3)\n",
      "memory usage: 1.8 KB\n"
     ]
    }
   ],
   "source": [
    "result.reset_index().info()"
   ]
  },
  {
   "cell_type": "code",
   "execution_count": 72,
   "id": "8bac527a",
   "metadata": {
    "scrolled": true
   },
   "outputs": [],
   "source": [
    "# affihcher le graphique du dataframe result, quel est le problème ?\n",
    "readyToPlot = result.unstack('annee')"
   ]
  },
  {
   "cell_type": "code",
   "execution_count": 24,
   "id": "c39c80b1",
   "metadata": {},
   "outputs": [],
   "source": [
    "readyToPlot = result.reset_index()"
   ]
  },
  {
   "cell_type": "code",
   "execution_count": 73,
   "id": "8293a556",
   "metadata": {},
   "outputs": [
    {
     "name": "stdout",
     "output_type": "stream",
     "text": [
      "<class 'pandas.core.frame.DataFrame'>\n",
      "Index: 12 entries, 1 to 12\n",
      "Data columns (total 6 columns):\n",
      " #   Column  Non-Null Count  Dtype\n",
      "---  ------  --------------  -----\n",
      " 0   2014    12 non-null     int64\n",
      " 1   2015    12 non-null     int64\n",
      " 2   2016    12 non-null     int64\n",
      " 3   2017    12 non-null     int64\n",
      " 4   2018    12 non-null     int64\n",
      " 5   2019    12 non-null     int64\n",
      "dtypes: int64(6)\n",
      "memory usage: 672.0 bytes\n"
     ]
    }
   ],
   "source": [
    "readyToPlot.info()"
   ]
  },
  {
   "cell_type": "code",
   "execution_count": 44,
   "id": "5abc0c05",
   "metadata": {},
   "outputs": [
    {
     "name": "stdout",
     "output_type": "stream",
     "text": [
      "<class 'pandas.core.frame.DataFrame'>\n",
      "RangeIndex: 72 entries, 0 to 71\n",
      "Data columns (total 3 columns):\n",
      " #   Column  Non-Null Count  Dtype\n",
      "---  ------  --------------  -----\n",
      " 0   annee   72 non-null     int64\n",
      " 1   mois    72 non-null     int64\n",
      " 2   value   72 non-null     int64\n",
      "dtypes: int64(3)\n",
      "memory usage: 1.8 KB\n"
     ]
    }
   ],
   "source": [
    "readyToPlot.info()"
   ]
  },
  {
   "cell_type": "code",
   "execution_count": 41,
   "id": "55a1b577",
   "metadata": {},
   "outputs": [],
   "source": [
    "dfPivot = readyToPlot.pivot(index='mois', columns='annee', values='value')"
   ]
  },
  {
   "cell_type": "code",
   "execution_count": 42,
   "id": "e3ec4788",
   "metadata": {},
   "outputs": [
    {
     "data": {
      "text/plain": [
       "<Axes: xlabel='mois'>"
      ]
     },
     "execution_count": 42,
     "metadata": {},
     "output_type": "execute_result"
    },
    {
     "data": {
      "image/png": "[encoded data removed]",
      "text/plain": [
       "<Figure size 640x480 with 1 Axes>"
      ]
     },
     "metadata": {},
     "output_type": "display_data"
    }
   ],
   "source": [
    "dfPivot.plot.bar()"
   ]
  },
  {
   "cell_type": "markdown",
   "id": "9f6d7425",
   "metadata": {},
   "source": [
    "# Exercice 2 - Candidats"
   ]
  },
  {
   "cell_type": "markdown",
   "id": "8709688a",
   "metadata": {},
   "source": [
    "A partir d'un jeu de données fourni par la plateforme datagouv, afficher le temps de parole de chacun des candidats puis afficher le temps de parole par courant politique. Pour simplifier, nous allons prendre le temps de parole de la gauche et de la droite."
   ]
  },
  {
   "cell_type": "code",
   "execution_count": 45,
   "id": "8e0151d1",
   "metadata": {},
   "outputs": [],
   "source": [
    "import pandas as pd"
   ]
  },
  {
   "cell_type": "code",
   "execution_count": 123,
   "id": "fa66e9d2",
   "metadata": {},
   "outputs": [],
   "source": [
    "tempsParole = pd.read_csv('/tmp/50TP-TA_Presidentielle_2022__1er janvier au 7 mars 2022_v2.csv', encoding='latin1', sep=';')"
   ]
  },
  {
   "cell_type": "code",
   "execution_count": 50,
   "id": "088ce879",
   "metadata": {},
   "outputs": [
    {
     "name": "stdout",
     "output_type": "stream",
     "text": [
      "<class 'pandas.core.frame.DataFrame'>\n",
      "RangeIndex: 2675 entries, 0 to 2674\n",
      "Data columns (total 6 columns):\n",
      " #   Column           Non-Null Count  Dtype \n",
      "---  ------           --------------  ----- \n",
      " 0   Service          2675 non-null   object\n",
      " 1   Circonscription  2675 non-null   object\n",
      " 2   Candidat         2675 non-null   object\n",
      " 3   Type de temps    2675 non-null   object\n",
      " 4   Durée            2675 non-null   object\n",
      " 5   Pourcentage      2675 non-null   object\n",
      "dtypes: object(6)\n",
      "memory usage: 125.5+ KB\n"
     ]
    }
   ],
   "source": [
    "tempsParole.info()"
   ]
  },
  {
   "cell_type": "code",
   "execution_count": 55,
   "id": "7698f9c9",
   "metadata": {},
   "outputs": [
    {
     "data": {
      "text/plain": [
       "0       ARTHAUD NATHALIE\n",
       "1       ARTHAUD NATHALIE\n",
       "2       ARTHAUD NATHALIE\n",
       "3       ARTHAUD NATHALIE\n",
       "4       ARTHAUD NATHALIE\n",
       "              ...       \n",
       "2670     Total candidats\n",
       "2671     Total candidats\n",
       "2672     Total candidats\n",
       "2673     Total candidats\n",
       "2674     Total candidats\n",
       "Name: Candidat, Length: 2675, dtype: string"
      ]
     },
     "execution_count": 55,
     "metadata": {},
     "output_type": "execute_result"
    }
   ],
   "source": [
    "tempsParole['Candidat'].convert_dtypes()"
   ]
  },
  {
   "cell_type": "code",
   "execution_count": 62,
   "id": "175580c0",
   "metadata": {},
   "outputs": [
    {
     "name": "stdout",
     "output_type": "stream",
     "text": [
      "<class 'pandas.core.frame.DataFrame'>\n",
      "RangeIndex: 2675 entries, 0 to 2674\n",
      "Data columns (total 6 columns):\n",
      " #   Column           Non-Null Count  Dtype \n",
      "---  ------           --------------  ----- \n",
      " 0   Service          2675 non-null   object\n",
      " 1   Circonscription  2675 non-null   object\n",
      " 2   Candidat         2675 non-null   object\n",
      " 3   Type de temps    2675 non-null   object\n",
      " 4   Durée            2675 non-null   object\n",
      " 5   Pourcentage      2675 non-null   object\n",
      "dtypes: object(6)\n",
      "memory usage: 125.5+ KB\n"
     ]
    }
   ],
   "source": [
    "tempsParole.info()"
   ]
  },
  {
   "cell_type": "markdown",
   "id": "78b5f216",
   "metadata": {},
   "source": [
    "## Remplacer françois\n",
    "\n",
    "Le candidat François Asselineau est écrit de 2 manières différentes.\n",
    "Pour regrouper les observations sous le même nom, il faut par exemple remplacer les occurences de FRANCOIS par FRANÇOIS.\n",
    "\n",
    "Plusieurs méthodes possibles.\n",
    "\n",
    "### Méthode 1 : fonction apply\n",
    "\n",
    "1. déclarer une fonction `renameFrancois` qui va retourner une chaine de caractère dans laquelle toutes les occurences du mot FRANCOIS seront remplacées par FRANÇOIS.\n",
    "\n",
    "1. Appliquer cette fonction `renameFrancois` à la série `Candidat` via l'appel à la méthode [`apply`](https://pandas.pydata.org/pandas-docs/stable/reference/api/pandas.Series.apply.html#pandas.Series.apply)\n",
    "\n",
    "1. Attention à bien stocker le résultat dans le dataFrame"
   ]
  },
  {
   "cell_type": "code",
   "execution_count": 71,
   "id": "edf4a226",
   "metadata": {},
   "outputs": [],
   "source": [
    "# etape 1\n",
    "def renameFrancois(item):\n",
    "    return item.replace('FRANCOIS', 'FRANÇOIS')"
   ]
  },
  {
   "cell_type": "code",
   "execution_count": 72,
   "id": "070e8f4a",
   "metadata": {
    "scrolled": true
   },
   "outputs": [
    {
     "data": {
      "text/plain": [
       "array(['ARTHAUD NATHALIE', 'ASSELINEAU FRANÇOIS', 'DUPONT AIGNAN NICOLAS',\n",
       "       'HIDALGO ANNE', 'JADOT YANNICK', 'KAZIB ANASSE', 'KOENIG GASPARD',\n",
       "       'LASSALLE JEAN', 'LE PEN MARINE', 'MACRON EMMANUEL',\n",
       "       'MELENCHON JEAN LUC', 'MONTEBOURG ARNAUD', 'PECRESSE VALERIE',\n",
       "       'PHILIPPOT FLORIAN', 'POUTOU PHILIPPE', 'ROUSSEL FABIEN',\n",
       "       'TAUBIRA CHRISTIANE', 'THOUY HELENE', 'ZEMMOUR ERIC',\n",
       "       'Total candidats', 'LARROUTUROU PIERRE', 'CHICHE ARNAUD',\n",
       "       'DAN ANNE', 'EGGER CLARA', 'FURLAN PHILIPPE',\n",
       "       'GOVERNATORI JEAN MARC', 'GRIMAL FABRICE', 'KUZMANOVIC GEORGES',\n",
       "       'LANGLOIS ALEXANDRE', 'RIVOAL STEPHANIE', 'ROCCA MARTIN',\n",
       "       'WAECHTER ANTOINE', 'MARCHANDISE CHARLOTTE', 'CAU MARIE',\n",
       "       'AGUEB PORTERIE ANNA', 'DANIEL ISABELLE', 'LAM YAYA',\n",
       "       'PIGNOL GERARD'], dtype=object)"
      ]
     },
     "execution_count": 72,
     "metadata": {},
     "output_type": "execute_result"
    }
   ],
   "source": [
    "pd.unique(tempsParole['Candidat'].apply(renameFrancois))"
   ]
  },
  {
   "cell_type": "code",
   "execution_count": 73,
   "id": "bd8eadad",
   "metadata": {},
   "outputs": [],
   "source": [
    "tempsParole['Candidat'] = tempsParole['Candidat'].apply(renameFrancois)"
   ]
  },
  {
   "cell_type": "markdown",
   "id": "c545a9ab",
   "metadata": {},
   "source": [
    "### Méthide 2 : replace sur la série\n",
    "\n",
    "La fonction [`replace`](https://pandas.pydata.org/pandas-docs/stable/reference/api/pandas.Series.replace.html#pandas.Series.replace) permet de remplacer une chaine de caractères par une autre directement sur une Série. Pour que cela fonctionne, il faut que la série soit dans un type compatible, à savoir string.\n",
    "Pour forcer la conversion des séries dans le type le plus adéquat, vous devez utiliser la fonction [`convert_dtypes`](https://pandas.pydata.org/pandas-docs/stable/reference/api/pandas.DataFrame.convert_dtypes.html)"
   ]
  },
  {
   "cell_type": "code",
   "execution_count": 124,
   "id": "7c34df96",
   "metadata": {},
   "outputs": [],
   "source": [
    "tempsParole['Candidat'] = tempsParole['Candidat'].convert_dtypes().replace('FRANCOIS', 'FRANÇOIS', regex=True)"
   ]
  },
  {
   "cell_type": "code",
   "execution_count": 74,
   "id": "b609e22e",
   "metadata": {},
   "outputs": [],
   "source": [
    "tempsParole['Candidat'] = tempsParole['Candidat'].convert_dtypes().replace('ASSELINEAU FRANCOIS', 'ASSELINEAU FRANÇOIS')"
   ]
  },
  {
   "cell_type": "markdown",
   "id": "6a1b9151",
   "metadata": {},
   "source": [
    "Pour vérifier qu'il n'y a plus qu'un seul candidat `FRANÇOIS ASSELINEAU`, la méthode `unique` sur le dataframe ou bien sur la série ou bien sur `pd`."
   ]
  },
  {
   "cell_type": "code",
   "execution_count": 66,
   "id": "107c93cd",
   "metadata": {},
   "outputs": [
    {
     "data": {
      "text/plain": [
       "<StringArray>\n",
       "[     'ARTHAUD NATHALIE',   'ASSELINEAU FRANÇOIS', 'DUPONT AIGNAN NICOLAS',\n",
       "          'HIDALGO ANNE',         'JADOT YANNICK',          'KAZIB ANASSE',\n",
       "        'KOENIG GASPARD',         'LASSALLE JEAN',         'LE PEN MARINE',\n",
       "       'MACRON EMMANUEL',    'MELENCHON JEAN LUC',     'MONTEBOURG ARNAUD',\n",
       "      'PECRESSE VALERIE',     'PHILIPPOT FLORIAN',       'POUTOU PHILIPPE',\n",
       "        'ROUSSEL FABIEN',    'TAUBIRA CHRISTIANE',          'THOUY HELENE',\n",
       "          'ZEMMOUR ERIC',       'Total candidats',    'LARROUTUROU PIERRE',\n",
       "         'CHICHE ARNAUD',              'DAN ANNE',           'EGGER CLARA',\n",
       "       'FURLAN PHILIPPE', 'GOVERNATORI JEAN MARC',        'GRIMAL FABRICE',\n",
       "    'KUZMANOVIC GEORGES',    'LANGLOIS ALEXANDRE',      'RIVOAL STEPHANIE',\n",
       "          'ROCCA MARTIN',      'WAECHTER ANTOINE', 'MARCHANDISE CHARLOTTE',\n",
       "             'CAU MARIE',   'AGUEB PORTERIE ANNA',       'DANIEL ISABELLE',\n",
       "              'LAM YAYA',         'PIGNOL GERARD']\n",
       "Length: 38, dtype: string"
      ]
     },
     "execution_count": 66,
     "metadata": {},
     "output_type": "execute_result"
    }
   ],
   "source": [
    "pd.unique(tempsParole['Candidat'])"
   ]
  },
  {
   "cell_type": "code",
   "execution_count": 75,
   "id": "e9761a45",
   "metadata": {
    "scrolled": true
   },
   "outputs": [
    {
     "data": {
      "text/plain": [
       "<StringArray>\n",
       "[     'ARTHAUD NATHALIE',   'ASSELINEAU FRANÇOIS', 'DUPONT AIGNAN NICOLAS',\n",
       "          'HIDALGO ANNE',         'JADOT YANNICK',          'KAZIB ANASSE',\n",
       "        'KOENIG GASPARD',         'LASSALLE JEAN',         'LE PEN MARINE',\n",
       "       'MACRON EMMANUEL',    'MELENCHON JEAN LUC',     'MONTEBOURG ARNAUD',\n",
       "      'PECRESSE VALERIE',     'PHILIPPOT FLORIAN',       'POUTOU PHILIPPE',\n",
       "        'ROUSSEL FABIEN',    'TAUBIRA CHRISTIANE',          'THOUY HELENE',\n",
       "          'ZEMMOUR ERIC',       'Total candidats',    'LARROUTUROU PIERRE',\n",
       "         'CHICHE ARNAUD',              'DAN ANNE',           'EGGER CLARA',\n",
       "       'FURLAN PHILIPPE', 'GOVERNATORI JEAN MARC',        'GRIMAL FABRICE',\n",
       "    'KUZMANOVIC GEORGES',    'LANGLOIS ALEXANDRE',      'RIVOAL STEPHANIE',\n",
       "          'ROCCA MARTIN',      'WAECHTER ANTOINE', 'MARCHANDISE CHARLOTTE',\n",
       "             'CAU MARIE',   'AGUEB PORTERIE ANNA',       'DANIEL ISABELLE',\n",
       "              'LAM YAYA',         'PIGNOL GERARD']\n",
       "Length: 38, dtype: string"
      ]
     },
     "execution_count": 75,
     "metadata": {},
     "output_type": "execute_result"
    }
   ],
   "source": [
    "tempsParole['Candidat'].unique()"
   ]
  },
  {
   "cell_type": "markdown",
   "id": "0e299cea",
   "metadata": {},
   "source": [
    "Reste à faire :\n",
    "\n",
    "- filtrer la liste des candidats\n",
    "- filtrer sur l'indicateur `Type de temps`\n",
    "- convertir les durées actuellement au format HH:MM:SS en nb de secondes (int64)\n",
    "- filtrer la liste des colonnes, à savoir supprimer les colonnes `Circonscription`, `Type de temps` et `Pourcentage`\n",
    "- agréger les données sur service et candidat\n",
    "- afficher le graphique scatter sur le dataframe résultant des modifications précédentes"
   ]
  },
  {
   "cell_type": "code",
   "execution_count": 78,
   "id": "af1e1081",
   "metadata": {},
   "outputs": [],
   "source": [
    "tempsParoleWithoutTotal = tempsParole[tempsParole['Candidat'] != 'Total candidats']"
   ]
  },
  {
   "cell_type": "code",
   "execution_count": 79,
   "id": "273c9b88",
   "metadata": {
    "scrolled": true
   },
   "outputs": [
    {
     "data": {
      "text/plain": [
       "<StringArray>\n",
       "[     'ARTHAUD NATHALIE',   'ASSELINEAU FRANÇOIS', 'DUPONT AIGNAN NICOLAS',\n",
       "          'HIDALGO ANNE',         'JADOT YANNICK',          'KAZIB ANASSE',\n",
       "        'KOENIG GASPARD',         'LASSALLE JEAN',         'LE PEN MARINE',\n",
       "       'MACRON EMMANUEL',    'MELENCHON JEAN LUC',     'MONTEBOURG ARNAUD',\n",
       "      'PECRESSE VALERIE',     'PHILIPPOT FLORIAN',       'POUTOU PHILIPPE',\n",
       "        'ROUSSEL FABIEN',    'TAUBIRA CHRISTIANE',          'THOUY HELENE',\n",
       "          'ZEMMOUR ERIC',    'LARROUTUROU PIERRE',         'CHICHE ARNAUD',\n",
       "              'DAN ANNE',           'EGGER CLARA',       'FURLAN PHILIPPE',\n",
       " 'GOVERNATORI JEAN MARC',        'GRIMAL FABRICE',    'KUZMANOVIC GEORGES',\n",
       "    'LANGLOIS ALEXANDRE',      'RIVOAL STEPHANIE',          'ROCCA MARTIN',\n",
       "      'WAECHTER ANTOINE', 'MARCHANDISE CHARLOTTE',             'CAU MARIE',\n",
       "   'AGUEB PORTERIE ANNA',       'DANIEL ISABELLE',              'LAM YAYA',\n",
       "         'PIGNOL GERARD']\n",
       "Length: 37, dtype: string"
      ]
     },
     "execution_count": 79,
     "metadata": {},
     "output_type": "execute_result"
    }
   ],
   "source": [
    "tempsParoleWithoutTotal['Candidat'].unique()"
   ]
  },
  {
   "cell_type": "code",
   "execution_count": 80,
   "id": "98ac35e6",
   "metadata": {},
   "outputs": [
    {
     "data": {
      "text/plain": [
       "array(['Candidat', 'Soutiens', 'Total Temps de parole', 'Antenne',\n",
       "       \"Total Temps d'antenne\"], dtype=object)"
      ]
     },
     "execution_count": 80,
     "metadata": {},
     "output_type": "execute_result"
    }
   ],
   "source": [
    "tempsParole['Type de temps'].unique()"
   ]
  },
  {
   "cell_type": "code",
   "execution_count": 125,
   "id": "a605cde0",
   "metadata": {},
   "outputs": [],
   "source": [
    "tempsParoleFiltered = tempsParole[(tempsParole['Candidat'] != 'Total candidats') & (tempsParole['Type de temps'] == 'Total Temps de parole')]"
   ]
  },
  {
   "cell_type": "markdown",
   "id": "02780a2e",
   "metadata": {},
   "source": [
    "## Conversion en secondes\n",
    "\n",
    "### Méthode 1\n",
    "\n",
    "En utilisant le [`to_timedelta`](https://pandas.pydata.org/pandas-docs/stable/reference/api/pandas.to_timedelta.html#pandas-to-timedelta) sur la série/colonne `Durée` afin de parser la durée HH:MM:SS, il est possible de convertir en datetime python puis d'extraire la partie days et la partie seconds.\n",
    "\n",
    "\n",
    "\n",
    "### Méthode 2\n",
    "\n",
    "Division du timedelta parsé par un [`Timedelta`](https://pandas.pydata.org/pandas-docs/stable/reference/api/pandas.Timedelta.html#pandas-timedelta) constant d'1 seconde pour obtenir le résultat en secondes.\n",
    "\n",
    "### Méthode 3\n",
    "\n",
    "Utilisation d'une lambda pour convertir le Timedelta en total_seconds sans passer par datetime de python\n"
   ]
  },
  {
   "cell_type": "code",
   "execution_count": 133,
   "id": "fcde5441",
   "metadata": {
    "scrolled": true
   },
   "outputs": [
    {
     "name": "stderr",
     "output_type": "stream",
     "text": [
      "/tmp/ipykernel_147247/2060731663.py:2: SettingWithCopyWarning: \n",
      "A value is trying to be set on a copy of a slice from a DataFrame.\n",
      "Try using .loc[row_indexer,col_indexer] = value instead\n",
      "\n",
      "See the caveats in the documentation: https://pandas.pydata.org/pandas-docs/stable/user_guide/indexing.html#returning-a-view-versus-a-copy\n",
      "  tempsParoleFiltered['Durée_S'] = pd.to_timedelta(tempsParoleFiltered['Durée']).dt.seconds + pd.to_timedelta(tempsParoleFiltered['Durée']).dt.days * 86400\n"
     ]
    }
   ],
   "source": [
    "# attention, cela ne fonctionne qu'avec des intervalles < 24:00:00 (1 day)\n",
    "tempsParoleFiltered['Durée_S'] = pd.to_timedelta(tempsParoleFiltered['Durée']).dt.seconds + pd.to_timedelta(tempsParoleFiltered['Durée']).dt.days * 86400"
   ]
  },
  {
   "cell_type": "code",
   "execution_count": 131,
   "id": "2c6fca76",
   "metadata": {
    "scrolled": true
   },
   "outputs": [
    {
     "name": "stderr",
     "output_type": "stream",
     "text": [
      "/tmp/ipykernel_147247/112089730.py:1: SettingWithCopyWarning: \n",
      "A value is trying to be set on a copy of a slice from a DataFrame.\n",
      "Try using .loc[row_indexer,col_indexer] = value instead\n",
      "\n",
      "See the caveats in the documentation: https://pandas.pydata.org/pandas-docs/stable/user_guide/indexing.html#returning-a-view-versus-a-copy\n",
      "  tempsParoleFiltered['Durée_S_lambda'] = pd.to_timedelta(tempsParoleFiltered['Durée']).apply(lambda x: x.total_seconds() )\n"
     ]
    }
   ],
   "source": [
    "tempsParoleFiltered['Durée_S_lambda'] = pd.to_timedelta(tempsParoleFiltered['Durée']).apply(lambda x: x.total_seconds() )"
   ]
  },
  {
   "cell_type": "code",
   "execution_count": 94,
   "id": "06f21834",
   "metadata": {
    "scrolled": true
   },
   "outputs": [
    {
     "data": {
      "text/plain": [
       "2        159\n",
       "7         39\n",
       "12       424\n",
       "17       726\n",
       "22       803\n",
       "        ... \n",
       "2647     180\n",
       "2652    3159\n",
       "2657     261\n",
       "2662     993\n",
       "2667    5851\n",
       "Name: Durée, Length: 508, dtype: int64"
      ]
     },
     "execution_count": 94,
     "metadata": {},
     "output_type": "execute_result"
    }
   ],
   "source": [
    "(pd.to_timedelta(tempsParoleFiltered['Durée']) / pd.Timedelta(1, 's')).astype('int')"
   ]
  },
  {
   "cell_type": "code",
   "execution_count": 95,
   "id": "c6c098a0",
   "metadata": {
    "scrolled": true
   },
   "outputs": [
    {
     "data": {
      "text/plain": [
       "2        159\n",
       "7         39\n",
       "12       424\n",
       "17       726\n",
       "22       803\n",
       "        ... \n",
       "2647     180\n",
       "2652    3159\n",
       "2657     261\n",
       "2662     993\n",
       "2667    5851\n",
       "Name: Durée, Length: 508, dtype: Int64"
      ]
     },
     "execution_count": 95,
     "metadata": {},
     "output_type": "execute_result"
    }
   ],
   "source": [
    "(pd.to_timedelta(tempsParoleFiltered['Durée']) / pd.Timedelta(1, 's')).convert_dtypes()"
   ]
  },
  {
   "cell_type": "code",
   "execution_count": 134,
   "id": "5ff413a0",
   "metadata": {},
   "outputs": [
    {
     "data": {
      "text/html": [
       "<div>\n",
       "<style scoped>\n",
       "    .dataframe tbody tr th:only-of-type {\n",
       "        vertical-align: middle;\n",
       "    }\n",
       "\n",
       "    .dataframe tbody tr th {\n",
       "        vertical-align: top;\n",
       "    }\n",
       "\n",
       "    .dataframe thead th {\n",
       "        text-align: right;\n",
       "    }\n",
       "</style>\n",
       "<table border=\"1\" class=\"dataframe\">\n",
       "  <thead>\n",
       "    <tr style=\"text-align: right;\">\n",
       "      <th></th>\n",
       "      <th>Durée</th>\n",
       "      <th>Durée_S</th>\n",
       "      <th>Durée_S_div</th>\n",
       "      <th>Durée_S_lambda</th>\n",
       "    </tr>\n",
       "  </thead>\n",
       "  <tbody>\n",
       "    <tr>\n",
       "      <th>47</th>\n",
       "      <td>00:36:03</td>\n",
       "      <td>2163</td>\n",
       "      <td>2163</td>\n",
       "      <td>2163.0</td>\n",
       "    </tr>\n",
       "    <tr>\n",
       "      <th>152</th>\n",
       "      <td>01:46:07</td>\n",
       "      <td>6367</td>\n",
       "      <td>6367</td>\n",
       "      <td>6367.0</td>\n",
       "    </tr>\n",
       "    <tr>\n",
       "      <th>237</th>\n",
       "      <td>00:29:41</td>\n",
       "      <td>1781</td>\n",
       "      <td>1781</td>\n",
       "      <td>1781.0</td>\n",
       "    </tr>\n",
       "    <tr>\n",
       "      <th>337</th>\n",
       "      <td>02:22:25</td>\n",
       "      <td>8545</td>\n",
       "      <td>8545</td>\n",
       "      <td>8545.0</td>\n",
       "    </tr>\n",
       "    <tr>\n",
       "      <th>432</th>\n",
       "      <td>00:05:00</td>\n",
       "      <td>300</td>\n",
       "      <td>300</td>\n",
       "      <td>300.0</td>\n",
       "    </tr>\n",
       "    <tr>\n",
       "      <th>532</th>\n",
       "      <td>03:42:03</td>\n",
       "      <td>13323</td>\n",
       "      <td>13323</td>\n",
       "      <td>13323.0</td>\n",
       "    </tr>\n",
       "    <tr>\n",
       "      <th>627</th>\n",
       "      <td>01:13:57</td>\n",
       "      <td>4437</td>\n",
       "      <td>4437</td>\n",
       "      <td>4437.0</td>\n",
       "    </tr>\n",
       "    <tr>\n",
       "      <th>767</th>\n",
       "      <td>19:10:25</td>\n",
       "      <td>69025</td>\n",
       "      <td>69025</td>\n",
       "      <td>69025.0</td>\n",
       "    </tr>\n",
       "    <tr>\n",
       "      <th>892</th>\n",
       "      <td>36:40:31</td>\n",
       "      <td>132031</td>\n",
       "      <td>132031</td>\n",
       "      <td>132031.0</td>\n",
       "    </tr>\n",
       "    <tr>\n",
       "      <th>997</th>\n",
       "      <td>01:52:47</td>\n",
       "      <td>6767</td>\n",
       "      <td>6767</td>\n",
       "      <td>6767.0</td>\n",
       "    </tr>\n",
       "    <tr>\n",
       "      <th>1072</th>\n",
       "      <td>00:11:49</td>\n",
       "      <td>709</td>\n",
       "      <td>709</td>\n",
       "      <td>709.0</td>\n",
       "    </tr>\n",
       "    <tr>\n",
       "      <th>1142</th>\n",
       "      <td>02:13:10</td>\n",
       "      <td>7990</td>\n",
       "      <td>7990</td>\n",
       "      <td>7990.0</td>\n",
       "    </tr>\n",
       "    <tr>\n",
       "      <th>1252</th>\n",
       "      <td>35:03:19</td>\n",
       "      <td>126199</td>\n",
       "      <td>126199</td>\n",
       "      <td>126199.0</td>\n",
       "    </tr>\n",
       "    <tr>\n",
       "      <th>1372</th>\n",
       "      <td>10:47:12</td>\n",
       "      <td>38832</td>\n",
       "      <td>38832</td>\n",
       "      <td>38832.0</td>\n",
       "    </tr>\n",
       "    <tr>\n",
       "      <th>1472</th>\n",
       "      <td>01:10:26</td>\n",
       "      <td>4226</td>\n",
       "      <td>4226</td>\n",
       "      <td>4226.0</td>\n",
       "    </tr>\n",
       "    <tr>\n",
       "      <th>1557</th>\n",
       "      <td>02:05:45</td>\n",
       "      <td>7545</td>\n",
       "      <td>7545</td>\n",
       "      <td>7545.0</td>\n",
       "    </tr>\n",
       "    <tr>\n",
       "      <th>1637</th>\n",
       "      <td>00:36:24</td>\n",
       "      <td>2184</td>\n",
       "      <td>2184</td>\n",
       "      <td>2184.0</td>\n",
       "    </tr>\n",
       "    <tr>\n",
       "      <th>1717</th>\n",
       "      <td>01:47:53</td>\n",
       "      <td>6473</td>\n",
       "      <td>6473</td>\n",
       "      <td>6473.0</td>\n",
       "    </tr>\n",
       "    <tr>\n",
       "      <th>1847</th>\n",
       "      <td>09:25:09</td>\n",
       "      <td>33909</td>\n",
       "      <td>33909</td>\n",
       "      <td>33909.0</td>\n",
       "    </tr>\n",
       "    <tr>\n",
       "      <th>1967</th>\n",
       "      <td>00:34:56</td>\n",
       "      <td>2096</td>\n",
       "      <td>2096</td>\n",
       "      <td>2096.0</td>\n",
       "    </tr>\n",
       "    <tr>\n",
       "      <th>2087</th>\n",
       "      <td>02:44:35</td>\n",
       "      <td>9875</td>\n",
       "      <td>9875</td>\n",
       "      <td>9875.0</td>\n",
       "    </tr>\n",
       "    <tr>\n",
       "      <th>2187</th>\n",
       "      <td>00:03:15</td>\n",
       "      <td>195</td>\n",
       "      <td>195</td>\n",
       "      <td>195.0</td>\n",
       "    </tr>\n",
       "    <tr>\n",
       "      <th>2277</th>\n",
       "      <td>01:47:27</td>\n",
       "      <td>6447</td>\n",
       "      <td>6447</td>\n",
       "      <td>6447.0</td>\n",
       "    </tr>\n",
       "    <tr>\n",
       "      <th>2357</th>\n",
       "      <td>06:23:41</td>\n",
       "      <td>23021</td>\n",
       "      <td>23021</td>\n",
       "      <td>23021.0</td>\n",
       "    </tr>\n",
       "    <tr>\n",
       "      <th>2457</th>\n",
       "      <td>04:14:03</td>\n",
       "      <td>15243</td>\n",
       "      <td>15243</td>\n",
       "      <td>15243.0</td>\n",
       "    </tr>\n",
       "    <tr>\n",
       "      <th>2547</th>\n",
       "      <td>08:08:42</td>\n",
       "      <td>29322</td>\n",
       "      <td>29322</td>\n",
       "      <td>29322.0</td>\n",
       "    </tr>\n",
       "    <tr>\n",
       "      <th>2627</th>\n",
       "      <td>03:17:31</td>\n",
       "      <td>11851</td>\n",
       "      <td>11851</td>\n",
       "      <td>11851.0</td>\n",
       "    </tr>\n",
       "  </tbody>\n",
       "</table>\n",
       "</div>"
      ],
      "text/plain": [
       "         Durée  Durée_S  Durée_S_div  Durée_S_lambda\n",
       "47    00:36:03     2163         2163          2163.0\n",
       "152   01:46:07     6367         6367          6367.0\n",
       "237   00:29:41     1781         1781          1781.0\n",
       "337   02:22:25     8545         8545          8545.0\n",
       "432   00:05:00      300          300           300.0\n",
       "532   03:42:03    13323        13323         13323.0\n",
       "627   01:13:57     4437         4437          4437.0\n",
       "767   19:10:25    69025        69025         69025.0\n",
       "892   36:40:31   132031       132031        132031.0\n",
       "997   01:52:47     6767         6767          6767.0\n",
       "1072  00:11:49      709          709           709.0\n",
       "1142  02:13:10     7990         7990          7990.0\n",
       "1252  35:03:19   126199       126199        126199.0\n",
       "1372  10:47:12    38832        38832         38832.0\n",
       "1472  01:10:26     4226         4226          4226.0\n",
       "1557  02:05:45     7545         7545          7545.0\n",
       "1637  00:36:24     2184         2184          2184.0\n",
       "1717  01:47:53     6473         6473          6473.0\n",
       "1847  09:25:09    33909        33909         33909.0\n",
       "1967  00:34:56     2096         2096          2096.0\n",
       "2087  02:44:35     9875         9875          9875.0\n",
       "2187  00:03:15      195          195           195.0\n",
       "2277  01:47:27     6447         6447          6447.0\n",
       "2357  06:23:41    23021        23021         23021.0\n",
       "2457  04:14:03    15243        15243         15243.0\n",
       "2547  08:08:42    29322        29322         29322.0\n",
       "2627  03:17:31    11851        11851         11851.0"
      ]
     },
     "execution_count": 134,
     "metadata": {},
     "output_type": "execute_result"
    }
   ],
   "source": [
    "tempsParoleFiltered[tempsParoleFiltered['Candidat'] == 'MACRON EMMANUEL'][['Durée', 'Durée_S', 'Durée_S_div', 'Durée_S_lambda']]"
   ]
  },
  {
   "cell_type": "code",
   "execution_count": 129,
   "id": "957779a1",
   "metadata": {
    "scrolled": true
   },
   "outputs": [
    {
     "name": "stderr",
     "output_type": "stream",
     "text": [
      "/tmp/ipykernel_147247/993073404.py:1: SettingWithCopyWarning: \n",
      "A value is trying to be set on a copy of a slice from a DataFrame.\n",
      "Try using .loc[row_indexer,col_indexer] = value instead\n",
      "\n",
      "See the caveats in the documentation: https://pandas.pydata.org/pandas-docs/stable/user_guide/indexing.html#returning-a-view-versus-a-copy\n",
      "  tempsParoleFiltered['Durée_S_div'] = (pd.to_timedelta(tempsParoleFiltered['Durée']) / pd.Timedelta(1, 's')).convert_dtypes()\n"
     ]
    }
   ],
   "source": [
    "tempsParoleFiltered['Durée_S_div'] = (pd.to_timedelta(tempsParoleFiltered['Durée']) / pd.Timedelta(1, 's')).convert_dtypes()"
   ]
  },
  {
   "cell_type": "code",
   "execution_count": 98,
   "id": "44cc9c91",
   "metadata": {
    "scrolled": true
   },
   "outputs": [
    {
     "name": "stdout",
     "output_type": "stream",
     "text": [
      "<class 'pandas.core.frame.DataFrame'>\n",
      "Index: 508 entries, 2 to 2667\n",
      "Data columns (total 7 columns):\n",
      " #   Column           Non-Null Count  Dtype \n",
      "---  ------           --------------  ----- \n",
      " 0   Service          508 non-null    object\n",
      " 1   Circonscription  508 non-null    object\n",
      " 2   Candidat         508 non-null    string\n",
      " 3   Type de temps    508 non-null    object\n",
      " 4   Durée            508 non-null    object\n",
      " 5   Pourcentage      508 non-null    object\n",
      " 6   Durée_S          508 non-null    Int64 \n",
      "dtypes: Int64(1), object(5), string(1)\n",
      "memory usage: 32.2+ KB\n"
     ]
    }
   ],
   "source": [
    "tempsParoleFiltered.info()"
   ]
  },
  {
   "cell_type": "markdown",
   "id": "83206373",
   "metadata": {},
   "source": [
    "Supprimer les colonnes inutiles\n",
    "\n",
    "Plusieurs méthodes\n",
    "\n",
    "### Méthode 1 : sélection\n",
    "\n",
    "spécifier via une liste les colonnes à afficher\n",
    "\n",
    "\n",
    "### Méthode 2 : destruction avec altération possible\n",
    "\n",
    "\n",
    "fonction [`drop`](https://pandas.pydata.org/pandas-docs/stable/reference/api/pandas.DataFrame.drop.html#pandas.DataFrame.drop)\n",
    "\n",
    "\n",
    "### Méthode 3 : extraction avec altération obligatoire\n",
    "\n",
    "fonction [`pop`](https://pandas.pydata.org/pandas-docs/stable/reference/api/pandas.DataFrame.pop.html#pandas.DataFrame.pop)\n"
   ]
  },
  {
   "cell_type": "code",
   "execution_count": 99,
   "id": "1513baeb",
   "metadata": {},
   "outputs": [
    {
     "data": {
      "text/html": [
       "<div>\n",
       "<style scoped>\n",
       "    .dataframe tbody tr th:only-of-type {\n",
       "        vertical-align: middle;\n",
       "    }\n",
       "\n",
       "    .dataframe tbody tr th {\n",
       "        vertical-align: top;\n",
       "    }\n",
       "\n",
       "    .dataframe thead th {\n",
       "        text-align: right;\n",
       "    }\n",
       "</style>\n",
       "<table border=\"1\" class=\"dataframe\">\n",
       "  <thead>\n",
       "    <tr style=\"text-align: right;\">\n",
       "      <th></th>\n",
       "      <th>Candidat</th>\n",
       "      <th>Durée_S</th>\n",
       "      <th>Service</th>\n",
       "    </tr>\n",
       "  </thead>\n",
       "  <tbody>\n",
       "    <tr>\n",
       "      <th>2</th>\n",
       "      <td>ARTHAUD NATHALIE</td>\n",
       "      <td>159</td>\n",
       "      <td>TF1</td>\n",
       "    </tr>\n",
       "    <tr>\n",
       "      <th>7</th>\n",
       "      <td>ASSELINEAU FRANÇOIS</td>\n",
       "      <td>39</td>\n",
       "      <td>TF1</td>\n",
       "    </tr>\n",
       "    <tr>\n",
       "      <th>12</th>\n",
       "      <td>DUPONT AIGNAN NICOLAS</td>\n",
       "      <td>424</td>\n",
       "      <td>TF1</td>\n",
       "    </tr>\n",
       "    <tr>\n",
       "      <th>17</th>\n",
       "      <td>HIDALGO ANNE</td>\n",
       "      <td>726</td>\n",
       "      <td>TF1</td>\n",
       "    </tr>\n",
       "    <tr>\n",
       "      <th>22</th>\n",
       "      <td>JADOT YANNICK</td>\n",
       "      <td>803</td>\n",
       "      <td>TF1</td>\n",
       "    </tr>\n",
       "    <tr>\n",
       "      <th>...</th>\n",
       "      <td>...</td>\n",
       "      <td>...</td>\n",
       "      <td>...</td>\n",
       "    </tr>\n",
       "    <tr>\n",
       "      <th>2647</th>\n",
       "      <td>POUTOU PHILIPPE</td>\n",
       "      <td>180</td>\n",
       "      <td>SudRadio</td>\n",
       "    </tr>\n",
       "    <tr>\n",
       "      <th>2652</th>\n",
       "      <td>ROUSSEL FABIEN</td>\n",
       "      <td>3159</td>\n",
       "      <td>SudRadio</td>\n",
       "    </tr>\n",
       "    <tr>\n",
       "      <th>2657</th>\n",
       "      <td>TAUBIRA CHRISTIANE</td>\n",
       "      <td>261</td>\n",
       "      <td>SudRadio</td>\n",
       "    </tr>\n",
       "    <tr>\n",
       "      <th>2662</th>\n",
       "      <td>THOUY HELENE</td>\n",
       "      <td>993</td>\n",
       "      <td>SudRadio</td>\n",
       "    </tr>\n",
       "    <tr>\n",
       "      <th>2667</th>\n",
       "      <td>ZEMMOUR ERIC</td>\n",
       "      <td>5851</td>\n",
       "      <td>SudRadio</td>\n",
       "    </tr>\n",
       "  </tbody>\n",
       "</table>\n",
       "<p>508 rows × 3 columns</p>\n",
       "</div>"
      ],
      "text/plain": [
       "                   Candidat  Durée_S   Service\n",
       "2          ARTHAUD NATHALIE      159       TF1\n",
       "7       ASSELINEAU FRANÇOIS       39       TF1\n",
       "12    DUPONT AIGNAN NICOLAS      424       TF1\n",
       "17             HIDALGO ANNE      726       TF1\n",
       "22            JADOT YANNICK      803       TF1\n",
       "...                     ...      ...       ...\n",
       "2647        POUTOU PHILIPPE      180  SudRadio\n",
       "2652         ROUSSEL FABIEN     3159  SudRadio\n",
       "2657     TAUBIRA CHRISTIANE      261  SudRadio\n",
       "2662           THOUY HELENE      993  SudRadio\n",
       "2667           ZEMMOUR ERIC     5851  SudRadio\n",
       "\n",
       "[508 rows x 3 columns]"
      ]
     },
     "execution_count": 99,
     "metadata": {},
     "output_type": "execute_result"
    }
   ],
   "source": [
    "tempsParoleFiltered[['Candidat', 'Durée_S', 'Service']]"
   ]
  },
  {
   "cell_type": "code",
   "execution_count": 100,
   "id": "5e68b992",
   "metadata": {},
   "outputs": [
    {
     "data": {
      "text/html": [
       "<div>\n",
       "<style scoped>\n",
       "    .dataframe tbody tr th:only-of-type {\n",
       "        vertical-align: middle;\n",
       "    }\n",
       "\n",
       "    .dataframe tbody tr th {\n",
       "        vertical-align: top;\n",
       "    }\n",
       "\n",
       "    .dataframe thead th {\n",
       "        text-align: right;\n",
       "    }\n",
       "</style>\n",
       "<table border=\"1\" class=\"dataframe\">\n",
       "  <thead>\n",
       "    <tr style=\"text-align: right;\">\n",
       "      <th></th>\n",
       "      <th>Service</th>\n",
       "      <th>Candidat</th>\n",
       "      <th>Durée_S</th>\n",
       "    </tr>\n",
       "  </thead>\n",
       "  <tbody>\n",
       "    <tr>\n",
       "      <th>2</th>\n",
       "      <td>TF1</td>\n",
       "      <td>ARTHAUD NATHALIE</td>\n",
       "      <td>159</td>\n",
       "    </tr>\n",
       "    <tr>\n",
       "      <th>7</th>\n",
       "      <td>TF1</td>\n",
       "      <td>ASSELINEAU FRANÇOIS</td>\n",
       "      <td>39</td>\n",
       "    </tr>\n",
       "    <tr>\n",
       "      <th>12</th>\n",
       "      <td>TF1</td>\n",
       "      <td>DUPONT AIGNAN NICOLAS</td>\n",
       "      <td>424</td>\n",
       "    </tr>\n",
       "    <tr>\n",
       "      <th>17</th>\n",
       "      <td>TF1</td>\n",
       "      <td>HIDALGO ANNE</td>\n",
       "      <td>726</td>\n",
       "    </tr>\n",
       "    <tr>\n",
       "      <th>22</th>\n",
       "      <td>TF1</td>\n",
       "      <td>JADOT YANNICK</td>\n",
       "      <td>803</td>\n",
       "    </tr>\n",
       "    <tr>\n",
       "      <th>...</th>\n",
       "      <td>...</td>\n",
       "      <td>...</td>\n",
       "      <td>...</td>\n",
       "    </tr>\n",
       "    <tr>\n",
       "      <th>2647</th>\n",
       "      <td>SudRadio</td>\n",
       "      <td>POUTOU PHILIPPE</td>\n",
       "      <td>180</td>\n",
       "    </tr>\n",
       "    <tr>\n",
       "      <th>2652</th>\n",
       "      <td>SudRadio</td>\n",
       "      <td>ROUSSEL FABIEN</td>\n",
       "      <td>3159</td>\n",
       "    </tr>\n",
       "    <tr>\n",
       "      <th>2657</th>\n",
       "      <td>SudRadio</td>\n",
       "      <td>TAUBIRA CHRISTIANE</td>\n",
       "      <td>261</td>\n",
       "    </tr>\n",
       "    <tr>\n",
       "      <th>2662</th>\n",
       "      <td>SudRadio</td>\n",
       "      <td>THOUY HELENE</td>\n",
       "      <td>993</td>\n",
       "    </tr>\n",
       "    <tr>\n",
       "      <th>2667</th>\n",
       "      <td>SudRadio</td>\n",
       "      <td>ZEMMOUR ERIC</td>\n",
       "      <td>5851</td>\n",
       "    </tr>\n",
       "  </tbody>\n",
       "</table>\n",
       "<p>508 rows × 3 columns</p>\n",
       "</div>"
      ],
      "text/plain": [
       "       Service               Candidat  Durée_S\n",
       "2          TF1       ARTHAUD NATHALIE      159\n",
       "7          TF1    ASSELINEAU FRANÇOIS       39\n",
       "12         TF1  DUPONT AIGNAN NICOLAS      424\n",
       "17         TF1           HIDALGO ANNE      726\n",
       "22         TF1          JADOT YANNICK      803\n",
       "...        ...                    ...      ...\n",
       "2647  SudRadio        POUTOU PHILIPPE      180\n",
       "2652  SudRadio         ROUSSEL FABIEN     3159\n",
       "2657  SudRadio     TAUBIRA CHRISTIANE      261\n",
       "2662  SudRadio           THOUY HELENE      993\n",
       "2667  SudRadio           ZEMMOUR ERIC     5851\n",
       "\n",
       "[508 rows x 3 columns]"
      ]
     },
     "execution_count": 100,
     "metadata": {},
     "output_type": "execute_result"
    }
   ],
   "source": [
    "tempsParoleFiltered.drop(columns=['Circonscription', 'Durée', 'Pourcentage', 'Type de temps'])"
   ]
  },
  {
   "cell_type": "code",
   "execution_count": 118,
   "id": "fe2d4da6",
   "metadata": {},
   "outputs": [],
   "source": [
    "for col in ['Circonscription', 'Durée', 'Pourcentage', 'Type de temps']:\n",
    "    try:\n",
    "        tempsParoleFiltered.pop(col)\n",
    "    except:\n",
    "        pass\n"
   ]
  },
  {
   "cell_type": "code",
   "execution_count": 119,
   "id": "4f6d905b",
   "metadata": {
    "scrolled": true
   },
   "outputs": [
    {
     "name": "stdout",
     "output_type": "stream",
     "text": [
      "<class 'pandas.core.frame.DataFrame'>\n",
      "Index: 508 entries, 2 to 2667\n",
      "Data columns (total 3 columns):\n",
      " #   Column    Non-Null Count  Dtype \n",
      "---  ------    --------------  ----- \n",
      " 0   Service   508 non-null    object\n",
      " 1   Candidat  508 non-null    string\n",
      " 2   Durée_S   508 non-null    int32 \n",
      "dtypes: int32(1), object(1), string(1)\n",
      "memory usage: 13.9+ KB\n"
     ]
    }
   ],
   "source": [
    "tempsParoleFiltered.info()"
   ]
  },
  {
   "cell_type": "code",
   "execution_count": 120,
   "id": "116bc1d8",
   "metadata": {},
   "outputs": [],
   "source": [
    "tpsParoleReadyToPlot = tempsParoleFiltered.groupby(['Service', 'Candidat']).sum().reset_index()"
   ]
  },
  {
   "cell_type": "code",
   "execution_count": 110,
   "id": "15a9ef7b",
   "metadata": {},
   "outputs": [
    {
     "data": {
      "text/html": [
       "<div>\n",
       "<style scoped>\n",
       "    .dataframe tbody tr th:only-of-type {\n",
       "        vertical-align: middle;\n",
       "    }\n",
       "\n",
       "    .dataframe tbody tr th {\n",
       "        vertical-align: top;\n",
       "    }\n",
       "\n",
       "    .dataframe thead th {\n",
       "        text-align: right;\n",
       "    }\n",
       "</style>\n",
       "<table border=\"1\" class=\"dataframe\">\n",
       "  <thead>\n",
       "    <tr style=\"text-align: right;\">\n",
       "      <th></th>\n",
       "      <th>Service</th>\n",
       "      <th>Candidat</th>\n",
       "      <th>Durée_S</th>\n",
       "    </tr>\n",
       "  </thead>\n",
       "  <tbody>\n",
       "    <tr>\n",
       "      <th>0</th>\n",
       "      <td>BFMBusiness</td>\n",
       "      <td>ARTHAUD NATHALIE</td>\n",
       "      <td>645</td>\n",
       "    </tr>\n",
       "    <tr>\n",
       "      <th>1</th>\n",
       "      <td>BFMBusiness</td>\n",
       "      <td>DUPONT AIGNAN NICOLAS</td>\n",
       "      <td>2614</td>\n",
       "    </tr>\n",
       "    <tr>\n",
       "      <th>2</th>\n",
       "      <td>BFMBusiness</td>\n",
       "      <td>HIDALGO ANNE</td>\n",
       "      <td>3545</td>\n",
       "    </tr>\n",
       "    <tr>\n",
       "      <th>3</th>\n",
       "      <td>BFMBusiness</td>\n",
       "      <td>JADOT YANNICK</td>\n",
       "      <td>4889</td>\n",
       "    </tr>\n",
       "    <tr>\n",
       "      <th>4</th>\n",
       "      <td>BFMBusiness</td>\n",
       "      <td>KOENIG GASPARD</td>\n",
       "      <td>0</td>\n",
       "    </tr>\n",
       "    <tr>\n",
       "      <th>...</th>\n",
       "      <td>...</td>\n",
       "      <td>...</td>\n",
       "      <td>...</td>\n",
       "    </tr>\n",
       "    <tr>\n",
       "      <th>503</th>\n",
       "      <td>TV5Monde</td>\n",
       "      <td>POUTOU PHILIPPE</td>\n",
       "      <td>1172</td>\n",
       "    </tr>\n",
       "    <tr>\n",
       "      <th>504</th>\n",
       "      <td>TV5Monde</td>\n",
       "      <td>ROUSSEL FABIEN</td>\n",
       "      <td>187</td>\n",
       "    </tr>\n",
       "    <tr>\n",
       "      <th>505</th>\n",
       "      <td>TV5Monde</td>\n",
       "      <td>TAUBIRA CHRISTIANE</td>\n",
       "      <td>1071</td>\n",
       "    </tr>\n",
       "    <tr>\n",
       "      <th>506</th>\n",
       "      <td>TV5Monde</td>\n",
       "      <td>THOUY HELENE</td>\n",
       "      <td>510</td>\n",
       "    </tr>\n",
       "    <tr>\n",
       "      <th>507</th>\n",
       "      <td>TV5Monde</td>\n",
       "      <td>ZEMMOUR ERIC</td>\n",
       "      <td>1786</td>\n",
       "    </tr>\n",
       "  </tbody>\n",
       "</table>\n",
       "<p>508 rows × 3 columns</p>\n",
       "</div>"
      ],
      "text/plain": [
       "         Service               Candidat  Durée_S\n",
       "0    BFMBusiness       ARTHAUD NATHALIE      645\n",
       "1    BFMBusiness  DUPONT AIGNAN NICOLAS     2614\n",
       "2    BFMBusiness           HIDALGO ANNE     3545\n",
       "3    BFMBusiness          JADOT YANNICK     4889\n",
       "4    BFMBusiness         KOENIG GASPARD        0\n",
       "..           ...                    ...      ...\n",
       "503     TV5Monde        POUTOU PHILIPPE     1172\n",
       "504     TV5Monde         ROUSSEL FABIEN      187\n",
       "505     TV5Monde     TAUBIRA CHRISTIANE     1071\n",
       "506     TV5Monde           THOUY HELENE      510\n",
       "507     TV5Monde           ZEMMOUR ERIC     1786\n",
       "\n",
       "[508 rows x 3 columns]"
      ]
     },
     "execution_count": 110,
     "metadata": {},
     "output_type": "execute_result"
    }
   ],
   "source": [
    "tpsParoleReadyToPlot"
   ]
  },
  {
   "cell_type": "code",
   "execution_count": 121,
   "id": "c2c7637c",
   "metadata": {
    "scrolled": true
   },
   "outputs": [
    {
     "data": {
      "text/html": [
       "<div>\n",
       "<style scoped>\n",
       "    .dataframe tbody tr th:only-of-type {\n",
       "        vertical-align: middle;\n",
       "    }\n",
       "\n",
       "    .dataframe tbody tr th {\n",
       "        vertical-align: top;\n",
       "    }\n",
       "\n",
       "    .dataframe thead th {\n",
       "        text-align: right;\n",
       "    }\n",
       "</style>\n",
       "<table border=\"1\" class=\"dataframe\">\n",
       "  <thead>\n",
       "    <tr style=\"text-align: right;\">\n",
       "      <th></th>\n",
       "      <th>Durée_S</th>\n",
       "    </tr>\n",
       "    <tr>\n",
       "      <th>Candidat</th>\n",
       "      <th></th>\n",
       "    </tr>\n",
       "  </thead>\n",
       "  <tbody>\n",
       "    <tr>\n",
       "      <th>MACRON EMMANUEL</th>\n",
       "      <td>398056</td>\n",
       "    </tr>\n",
       "    <tr>\n",
       "      <th>PECRESSE VALERIE</th>\n",
       "      <td>397749</td>\n",
       "    </tr>\n",
       "    <tr>\n",
       "      <th>ZEMMOUR ERIC</th>\n",
       "      <td>391525</td>\n",
       "    </tr>\n",
       "    <tr>\n",
       "      <th>LE PEN MARINE</th>\n",
       "      <td>373153</td>\n",
       "    </tr>\n",
       "    <tr>\n",
       "      <th>MELENCHON JEAN LUC</th>\n",
       "      <td>370777</td>\n",
       "    </tr>\n",
       "    <tr>\n",
       "      <th>JADOT YANNICK</th>\n",
       "      <td>254206</td>\n",
       "    </tr>\n",
       "    <tr>\n",
       "      <th>HIDALGO ANNE</th>\n",
       "      <td>200062</td>\n",
       "    </tr>\n",
       "    <tr>\n",
       "      <th>ROUSSEL FABIEN</th>\n",
       "      <td>133909</td>\n",
       "    </tr>\n",
       "    <tr>\n",
       "      <th>TAUBIRA CHRISTIANE</th>\n",
       "      <td>74635</td>\n",
       "    </tr>\n",
       "    <tr>\n",
       "      <th>DUPONT AIGNAN NICOLAS</th>\n",
       "      <td>56410</td>\n",
       "    </tr>\n",
       "    <tr>\n",
       "      <th>ARTHAUD NATHALIE</th>\n",
       "      <td>31098</td>\n",
       "    </tr>\n",
       "    <tr>\n",
       "      <th>LASSALLE JEAN</th>\n",
       "      <td>28879</td>\n",
       "    </tr>\n",
       "    <tr>\n",
       "      <th>POUTOU PHILIPPE</th>\n",
       "      <td>24758</td>\n",
       "    </tr>\n",
       "    <tr>\n",
       "      <th>THOUY HELENE</th>\n",
       "      <td>19234</td>\n",
       "    </tr>\n",
       "    <tr>\n",
       "      <th>PHILIPPOT FLORIAN</th>\n",
       "      <td>12602</td>\n",
       "    </tr>\n",
       "    <tr>\n",
       "      <th>ASSELINEAU FRANÇOIS</th>\n",
       "      <td>12069</td>\n",
       "    </tr>\n",
       "    <tr>\n",
       "      <th>KOENIG GASPARD</th>\n",
       "      <td>8572</td>\n",
       "    </tr>\n",
       "    <tr>\n",
       "      <th>KAZIB ANASSE</th>\n",
       "      <td>2944</td>\n",
       "    </tr>\n",
       "    <tr>\n",
       "      <th>LARROUTUROU PIERRE</th>\n",
       "      <td>2749</td>\n",
       "    </tr>\n",
       "    <tr>\n",
       "      <th>ROCCA MARTIN</th>\n",
       "      <td>1547</td>\n",
       "    </tr>\n",
       "    <tr>\n",
       "      <th>KUZMANOVIC GEORGES</th>\n",
       "      <td>1370</td>\n",
       "    </tr>\n",
       "    <tr>\n",
       "      <th>MONTEBOURG ARNAUD</th>\n",
       "      <td>1326</td>\n",
       "    </tr>\n",
       "    <tr>\n",
       "      <th>EGGER CLARA</th>\n",
       "      <td>1311</td>\n",
       "    </tr>\n",
       "    <tr>\n",
       "      <th>AGUEB PORTERIE ANNA</th>\n",
       "      <td>923</td>\n",
       "    </tr>\n",
       "    <tr>\n",
       "      <th>MARCHANDISE CHARLOTTE</th>\n",
       "      <td>561</td>\n",
       "    </tr>\n",
       "    <tr>\n",
       "      <th>CAU MARIE</th>\n",
       "      <td>553</td>\n",
       "    </tr>\n",
       "    <tr>\n",
       "      <th>LANGLOIS ALEXANDRE</th>\n",
       "      <td>495</td>\n",
       "    </tr>\n",
       "    <tr>\n",
       "      <th>CHICHE ARNAUD</th>\n",
       "      <td>433</td>\n",
       "    </tr>\n",
       "    <tr>\n",
       "      <th>DAN ANNE</th>\n",
       "      <td>432</td>\n",
       "    </tr>\n",
       "    <tr>\n",
       "      <th>WAECHTER ANTOINE</th>\n",
       "      <td>264</td>\n",
       "    </tr>\n",
       "    <tr>\n",
       "      <th>GOVERNATORI JEAN MARC</th>\n",
       "      <td>188</td>\n",
       "    </tr>\n",
       "    <tr>\n",
       "      <th>GRIMAL FABRICE</th>\n",
       "      <td>172</td>\n",
       "    </tr>\n",
       "    <tr>\n",
       "      <th>RIVOAL STEPHANIE</th>\n",
       "      <td>160</td>\n",
       "    </tr>\n",
       "    <tr>\n",
       "      <th>DANIEL ISABELLE</th>\n",
       "      <td>147</td>\n",
       "    </tr>\n",
       "    <tr>\n",
       "      <th>FURLAN PHILIPPE</th>\n",
       "      <td>131</td>\n",
       "    </tr>\n",
       "    <tr>\n",
       "      <th>LAM YAYA</th>\n",
       "      <td>32</td>\n",
       "    </tr>\n",
       "    <tr>\n",
       "      <th>PIGNOL GERARD</th>\n",
       "      <td>8</td>\n",
       "    </tr>\n",
       "  </tbody>\n",
       "</table>\n",
       "</div>"
      ],
      "text/plain": [
       "                       Durée_S\n",
       "Candidat                      \n",
       "MACRON EMMANUEL         398056\n",
       "PECRESSE VALERIE        397749\n",
       "ZEMMOUR ERIC            391525\n",
       "LE PEN MARINE           373153\n",
       "MELENCHON JEAN LUC      370777\n",
       "JADOT YANNICK           254206\n",
       "HIDALGO ANNE            200062\n",
       "ROUSSEL FABIEN          133909\n",
       "TAUBIRA CHRISTIANE       74635\n",
       "DUPONT AIGNAN NICOLAS    56410\n",
       "ARTHAUD NATHALIE         31098\n",
       "LASSALLE JEAN            28879\n",
       "POUTOU PHILIPPE          24758\n",
       "THOUY HELENE             19234\n",
       "PHILIPPOT FLORIAN        12602\n",
       "ASSELINEAU FRANÇOIS      12069\n",
       "KOENIG GASPARD            8572\n",
       "KAZIB ANASSE              2944\n",
       "LARROUTUROU PIERRE        2749\n",
       "ROCCA MARTIN              1547\n",
       "KUZMANOVIC GEORGES        1370\n",
       "MONTEBOURG ARNAUD         1326\n",
       "EGGER CLARA               1311\n",
       "AGUEB PORTERIE ANNA        923\n",
       "MARCHANDISE CHARLOTTE      561\n",
       "CAU MARIE                  553\n",
       "LANGLOIS ALEXANDRE         495\n",
       "CHICHE ARNAUD              433\n",
       "DAN ANNE                   432\n",
       "WAECHTER ANTOINE           264\n",
       "GOVERNATORI JEAN MARC      188\n",
       "GRIMAL FABRICE             172\n",
       "RIVOAL STEPHANIE           160\n",
       "DANIEL ISABELLE            147\n",
       "FURLAN PHILIPPE            131\n",
       "LAM YAYA                    32\n",
       "PIGNOL GERARD                8"
      ]
     },
     "execution_count": 121,
     "metadata": {},
     "output_type": "execute_result"
    }
   ],
   "source": [
    "tpsParoleReadyToPlot[['Candidat', 'Durée_S']].groupby('Candidat').sum().sort_values('Durée_S', ascending=False)"
   ]
  },
  {
   "cell_type": "code",
   "execution_count": 137,
   "id": "6a112e15",
   "metadata": {},
   "outputs": [
    {
     "name": "stdout",
     "output_type": "stream",
     "text": [
      "<class 'pandas.core.frame.DataFrame'>\n",
      "RangeIndex: 508 entries, 0 to 507\n",
      "Data columns (total 3 columns):\n",
      " #   Column    Non-Null Count  Dtype \n",
      "---  ------    --------------  ----- \n",
      " 0   Service   508 non-null    object\n",
      " 1   Candidat  508 non-null    string\n",
      " 2   Durée_S   508 non-null    int32 \n",
      "dtypes: int32(1), object(1), string(1)\n",
      "memory usage: 10.1+ KB\n"
     ]
    }
   ],
   "source": [
    "tpsParoleReadyToPlot.info()"
   ]
  },
  {
   "cell_type": "code",
   "execution_count": 144,
   "id": "5e85ac11",
   "metadata": {},
   "outputs": [
    {
     "ename": "AttributeError",
     "evalue": "module 'pandas' has no attribute 'object'",
     "output_type": "error",
     "traceback": [
      "\u001b[0;31m---------------------------------------------------------------------------\u001b[0m",
      "\u001b[0;31mAttributeError\u001b[0m                            Traceback (most recent call last)",
      "Cell \u001b[0;32mIn[144], line 1\u001b[0m\n\u001b[0;32m----> 1\u001b[0m tpsParoleReadyToPlot[\u001b[38;5;124m'\u001b[39m\u001b[38;5;124mCandidat\u001b[39m\u001b[38;5;124m'\u001b[39m]\u001b[38;5;241m.\u001b[39mastype(pd\u001b[38;5;241m.\u001b[39mobject)\n\u001b[1;32m      2\u001b[0m tpsParoleReadyToPlot\u001b[38;5;241m.\u001b[39mplot\u001b[38;5;241m.\u001b[39mscatter(x \u001b[38;5;241m=\u001b[39m \u001b[38;5;124m'\u001b[39m\u001b[38;5;124mService\u001b[39m\u001b[38;5;124m'\u001b[39m, y \u001b[38;5;241m=\u001b[39m \u001b[38;5;124m'\u001b[39m\u001b[38;5;124mCandidat\u001b[39m\u001b[38;5;124m'\u001b[39m, rot \u001b[38;5;241m=\u001b[39m \u001b[38;5;241m90\u001b[39m)\n",
      "\u001b[0;31mAttributeError\u001b[0m: module 'pandas' has no attribute 'object'"
     ]
    }
   ],
   "source": [
    "tpsParoleReadyToPlot['Candidat'].astype(pd.object)\n",
    "tpsParoleReadyToPlot.plot.scatter(x = 'Service', y = 'Candidat', rot = 90)"
   ]
  },
  {
   "cell_type": "code",
   "execution_count": 145,
   "id": "cb81c7cd",
   "metadata": {},
   "outputs": [],
   "source": [
    "import matplotlib.pyplot as plt"
   ]
  },
  {
   "cell_type": "code",
   "execution_count": 157,
   "id": "cd5d9773",
   "metadata": {},
   "outputs": [
    {
     "data": {
      "text/plain": [
       "<matplotlib.collections.PathCollection at 0x7f1717ea8690>"
      ]
     },
     "execution_count": 157,
     "metadata": {},
     "output_type": "execute_result"
    },
    {
     "data": {
      "image/png": "[encoded data removed]",
      "text/plain": [
       "<Figure size 640x480 with 1 Axes>"
      ]
     },
     "metadata": {},
     "output_type": "display_data"
    }
   ],
   "source": [
    "\n",
    "plt.scatter(tpsParoleReadyToPlot['Service'], tpsParoleReadyToPlot['Candidat'], c = tpsParoleReadyToPlot['Durée_S'], s = tpsParoleReadyToPlot['Durée_S'] / tpsParoleReadyToPlot['Durée_S'].max())"
   ]
  }
 ],
 "metadata": {
  "kernelspec": {
   "display_name": "Python 3 (ipykernel)",
   "language": "python",
   "name": "python3"
  },
  "language_info": {
   "codemirror_mode": {
    "name": "ipython",
    "version": 3
   },
   "file_extension": ".py",
   "mimetype": "text/x-python",
   "name": "python",
   "nbconvert_exporter": "python",
   "pygments_lexer": "ipython3",
   "version": "3.11.5"
  }
 },
 "nbformat": 4,
 "nbformat_minor": 5
}
